{
 "cells": [
  {
   "cell_type": "code",
   "execution_count": 1,
   "metadata": {},
   "outputs": [],
   "source": [
    "################################################################################################################################################################################################################################################################################################################################################\n",
    "# Purpose: Analyze revenue in multiple time periods, per vendor\n",
    "#\n",
    "# Input: 3 csv files \n",
    "#        Data: Sales Analysis Table in EVP, 3 different time periods\n",
    "#        Note1: Here We use 3 csv files for November 2020 , December 2020, and January 1-14, 2021 \n",
    "#        Note2: Add files in the code if you need to analyze more than 3 periods of time \n",
    "# \n",
    "# Required Columns: [Sales Sku, Sales Order Number, Sales Order Date, Sales Channel Name, Fulfillment Item Id, Fulfillment Sku, Fulfillment Order Number, Fulfillment Channel Name, Fulfillment Channel Type, Quantity, Sku, Total Sales, Total Cost, Commission, Inventory Cost, Estimated Shipping Cost, Shipping Cost]\n",
    "#        Note1: To reduce redundant resources, it's better to remove other columns. Still can run if you do not remove them.\n",
    "#        Note2: Before running this program, check column names in Sales Analysis Table, especially empty spaces.\n",
    "#\n",
    "# Output: 1 csv file\n",
    "#        csv: Business information in multiple time periods, per vendor\n",
    "# \n",
    "# Customized configuration - Only need to change variables below: \n",
    "# * vendor_list    <- Add/Drop vendors\n",
    "# * nov_data       <- csv file of Sales Analysis Table in EVP (1st time period you would like to analyze)\n",
    "# * dec_data       <- csv file of Sales Analysis Table in EVP (2nd time period you would like to analyze)\n",
    "# * jan_data       <- csv file of Sales Analysis Table in EVP (3rd time period you would like to analyze)\n",
    "# * result.to_csv  <- Path of csv output file\n",
    "#\n",
    "# Optional Comments: If you want to create a text file for output, please refer to the comment # (Optional: write data in a text file)\n",
    "#\n",
    "################################################################################################################################################################################################################################################################################################################################################"
   ]
  },
  {
   "cell_type": "code",
   "execution_count": 2,
   "metadata": {},
   "outputs": [],
   "source": [
    "import pandas as pd\n",
    "import numpy as np\n",
    "\n",
    "# List of vendors, add here when cooperating new vendors\n",
    "vendor_list = ['A', 'B', 'C', 'D', 'E', 'F', 'G', 'H', 'I', 'J', 'K', 'L', 'M']"
   ]
  },
  {
   "cell_type": "code",
   "execution_count": 3,
   "metadata": {},
   "outputs": [],
   "source": [
    "# import two files of previous and current month\n",
    "nov_data = pd.read_csv('data/sale_data_nov_trim.CSV')  \n",
    "dec_data = pd.read_csv('data/sale_data_dec_trim.CSV')\n",
    "jan_data = pd.read_csv('data/sale_data_jan0114_trim.csv')\n",
    "\n",
    "# Filter to EVP data only\n",
    "#nov_data = nov_data[nov_data['Sales Sku'].str.contains('EVP')] #9042\n",
    "#dec_data = dec_data[dec_data['Sales Sku'].str.contains('EVP')] #10303\n",
    "#jan_data = jan_data[jan_data['Sales Sku'].str.contains('EVP')]\n",
    "\n",
    "# Filter Dropship vendors\n",
    "nov_data = nov_data[nov_data['Fulfillment Channel Name'].isin(vendor_list)]\n",
    "dec_data = dec_data[dec_data['Fulfillment Channel Name'].isin(vendor_list)]\n",
    "jan_data = jan_data[jan_data['Fulfillment Channel Name'].isin(vendor_list)]\n",
    "\n",
    "\n",
    "# Create total sales for current two months, group by each vendor\n",
    "nov_sale_data = nov_data[['Fulfillment Channel Name', 'Total Sales']]\n",
    "dec_sale_data = dec_data[['Fulfillment Channel Name', 'Total Sales']]\n",
    "jan_sale_data = jan_data[['Fulfillment Channel Name', 'Total Sales']]\n",
    "nov_agg_data = nov_sale_data.groupby('Fulfillment Channel Name')['Total Sales'].agg(['sum','count'])\n",
    "nov_agg_data = nov_agg_data.rename(columns={'sum':'Sales_Nov', 'count':'count_Nov'})\n",
    "dec_agg_data = dec_sale_data.groupby('Fulfillment Channel Name')['Total Sales'].agg(['sum','count'])\n",
    "dec_agg_data = dec_agg_data.rename(columns={'sum':'Sales_Dec', 'count':'count_Dec'})\n",
    "jan_agg_data = jan_sale_data.groupby('Fulfillment Channel Name')['Total Sales'].agg(['sum','count'])\n",
    "jan_agg_data = jan_agg_data.rename(columns={'sum':'Sales_Jan0114', 'count':'count_Jan0114'})\n",
    "\n",
    "# Combine two monthly data\n",
    "result = pd.concat([nov_agg_data, dec_agg_data, jan_agg_data], axis=1)\n",
    "result['Value per order Nov'] = result['Sales_Nov']/result['count_Nov']\n",
    "result['Value per order Dec'] = result['Sales_Dec']/result['count_Dec']\n",
    "result['Value per order Jan0114'] = result['Sales_Jan0114']/result['count_Jan0114']\n",
    "\n",
    "result = result[['Sales_Nov', 'Sales_Dec', 'Sales_Jan0114', 'count_Nov', 'count_Dec', 'count_Jan0114', 'Value per order Nov', \\\n",
    "                 'Value per order Dec', 'Value per order Jan0114']]\n",
    "result = result.append(result.sum().rename('Total'))\n",
    "\n",
    "# Write data in a file\n",
    "result.to_csv('output/analysis_result/Sales_by_Vendors/Monthly_Info_by_vendors.csv')\n",
    "\n",
    "# (Optional: write data in a text file)\n",
    "#####with open('analysis_result/Monthly_comparation_by_vendors.txt', 'w') as f:\n",
    "        #f.write('[Fundamental Statistics] \\n')\n",
    "        #f.write(result)\n",
    "        #f.write('Top 10 overlapped items with negative effect: \\n')\n",
    "    #####f.write(result.__repr__())"
   ]
  },
  {
   "cell_type": "code",
   "execution_count": null,
   "metadata": {},
   "outputs": [],
   "source": []
  }
 ],
 "metadata": {
  "kernelspec": {
   "display_name": "Python 3",
   "language": "python",
   "name": "python3"
  },
  "language_info": {
   "codemirror_mode": {
    "name": "ipython",
    "version": 3
   },
   "file_extension": ".py",
   "mimetype": "text/x-python",
   "name": "python",
   "nbconvert_exporter": "python",
   "pygments_lexer": "ipython3",
   "version": "3.8.5"
  }
 },
 "nbformat": 4,
 "nbformat_minor": 4
}
